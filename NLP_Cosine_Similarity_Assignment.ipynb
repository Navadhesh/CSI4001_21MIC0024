{
 "cells": [
  {
   "cell_type": "code",
   "execution_count": 97,
   "id": "a42d47f1-44c5-40e7-a61b-abff9f0e6645",
   "metadata": {},
   "outputs": [],
   "source": [
    "#without stemming"
   ]
  },
  {
   "cell_type": "code",
   "execution_count": 98,
   "id": "89eff01f-273b-497b-8b95-8bc5f17386fc",
   "metadata": {},
   "outputs": [],
   "source": [
    "from sklearn.feature_extraction.text import TfidfVectorizer\n",
    "from sklearn.metrics.pairwise import cosine_similarity"
   ]
  },
  {
   "cell_type": "code",
   "execution_count": 99,
   "id": "514f0473-716d-460c-bd2d-70a75b9ac7e1",
   "metadata": {},
   "outputs": [],
   "source": [
    "text1 = \"Cosine similarity calculates how similar two vectors are by measuring the angle between them.\"  \n",
    "text2 = \"The angle between two vectors is used to determine their similarity using cosine similarity.\""
   ]
  },
  {
   "cell_type": "code",
   "execution_count": 100,
   "id": "ab5769a9-0f8e-489e-a6af-2c1e5b90b55f",
   "metadata": {},
   "outputs": [],
   "source": [
    "# Convert text to TF-IDF vectors\n",
    "vectorizer = TfidfVectorizer(stop_words='english')  # Remove stop words\n",
    "tfidf_matrix = vectorizer.fit_transform([text1, text2])"
   ]
  },
  {
   "cell_type": "code",
   "execution_count": 101,
   "id": "3a1e4b1f-e5ef-43ca-beec-ccc6284a2c1a",
   "metadata": {},
   "outputs": [
    {
     "name": "stdout",
     "output_type": "stream",
     "text": [
      "Cosine Similarity: 0.4414\n"
     ]
    }
   ],
   "source": [
    "# Compute cosine similarity\n",
    "cosine_sim1 = cosine_similarity(tfidf_matrix[0], tfidf_matrix[1])\n",
    "# Output similarity score\n",
    "print(f\"Cosine Similarity: {cosine_sim1[0][0]:.4f}\")"
   ]
  },
  {
   "cell_type": "code",
   "execution_count": 102,
   "id": "447cb09e-e0fa-471d-bfdb-2bb3c2b12216",
   "metadata": {},
   "outputs": [],
   "source": [
    "# with stemming"
   ]
  },
  {
   "cell_type": "code",
   "execution_count": 103,
   "id": "c262b5b3-dce5-42da-b527-fd3d2ed12813",
   "metadata": {},
   "outputs": [
    {
     "name": "stderr",
     "output_type": "stream",
     "text": [
      "[nltk_data] Downloading package punkt to\n",
      "[nltk_data]     C:\\Users\\NAVADHESH\\AppData\\Roaming\\nltk_data...\n",
      "[nltk_data]   Package punkt is already up-to-date!\n"
     ]
    },
    {
     "data": {
      "text/plain": [
       "True"
      ]
     },
     "execution_count": 103,
     "metadata": {},
     "output_type": "execute_result"
    }
   ],
   "source": [
    "import nltk\n",
    "from nltk.stem import PorterStemmer\n",
    "from nltk.tokenize import word_tokenize\n",
    "from sklearn.feature_extraction.text import TfidfVectorizer\n",
    "from sklearn.metrics.pairwise import cosine_similarity\n",
    "nltk.download('punkt')"
   ]
  },
  {
   "cell_type": "code",
   "execution_count": 104,
   "id": "1a289378-e9d8-4ba3-b750-1178df22197d",
   "metadata": {},
   "outputs": [],
   "source": [
    "# Initialize Stemmer\n",
    "stemmer = PorterStemmer()"
   ]
  },
  {
   "cell_type": "code",
   "execution_count": 105,
   "id": "be45df0d-e63e-4df0-a7b4-c62499965f9b",
   "metadata": {},
   "outputs": [],
   "source": [
    "# Function to apply stemming\n",
    "def stem_text(text):\n",
    "    words = word_tokenize(text)\n",
    "    stemmed_words = [stemmer.stem(word) for word in words]\n",
    "    return \" \".join(stemmed_words)"
   ]
  },
  {
   "cell_type": "code",
   "execution_count": 106,
   "id": "19f4f71a-68ad-450f-96d8-4195fae5057b",
   "metadata": {},
   "outputs": [],
   "source": [
    "# Apply stemming\n",
    "text1_stemmed = stem_text(text1)\n",
    "text2_stemmed = stem_text(text2)"
   ]
  },
  {
   "cell_type": "code",
   "execution_count": 107,
   "id": "0fd9840b-faab-44f6-bbef-48447c75ee5a",
   "metadata": {},
   "outputs": [],
   "source": [
    "# Convert text to TF-IDF vectors\n",
    "vectorizer = TfidfVectorizer(stop_words='english')\n",
    "tfidf_matrix = vectorizer.fit_transform([text1_stemmed, text2_stemmed])"
   ]
  },
  {
   "cell_type": "code",
   "execution_count": 108,
   "id": "5d354e20-f75c-4173-91d9-2e48c7b8a348",
   "metadata": {},
   "outputs": [
    {
     "name": "stdout",
     "output_type": "stream",
     "text": [
      "Cosine Similarity (with stemming): 0.5149\n"
     ]
    }
   ],
   "source": [
    "# Compute cosine similarity\n",
    "cosine_sim2 = cosine_similarity(tfidf_matrix[0], tfidf_matrix[1])\n",
    "# Output similarity score\n",
    "print(f\"Cosine Similarity (with stemming): {cosine_sim2[0][0]:.4f}\")"
   ]
  },
  {
   "cell_type": "code",
   "execution_count": 109,
   "id": "113c800d-b22c-4061-82ba-0c3bf47b2e66",
   "metadata": {},
   "outputs": [
    {
     "data": {
      "image/png": "[encoded data removed]",
      "text/plain": [
       "<Figure size 640x480 with 1 Axes>"
      ]
     },
     "metadata": {},
     "output_type": "display_data"
    }
   ],
   "source": [
    "import matplotlib.pyplot as plt\n",
    "\n",
    "# Ensure cosine_sim1 and cosine_sim2 are scalar values (floats)\n",
    "cosine_sim1 = cosine_sim1[0][0]  # Extracting float from array\n",
    "cosine_sim2 = cosine_sim2[0][0]  # Extracting float from array\n",
    "\n",
    "# Plot the results\n",
    "labels = [\"Without Stemming\", \"With Stemming\"]\n",
    "values = [cosine_sim1, cosine_sim2]\n",
    "\n",
    "plt.bar(labels, values, color=['blue', 'green'])\n",
    "plt.ylim(0, 1)  # Cosine similarity is between 0 and 1\n",
    "plt.ylabel(\"Cosine Similarity Score\")\n",
    "plt.title(\"Cosine Similarity: With vs. Without Stemming\")\n",
    "\n",
    "# Display the score on top of bars\n",
    "for i, v in enumerate(values):\n",
    "    plt.text(i, v + 0.02, f\"{v:.4f}\", ha='center', fontsize=12, fontweight='bold')\n",
    "\n",
    "plt.show()\n"
   ]
  },
  {
   "cell_type": "code",
   "execution_count": null,
   "id": "9a4795e2-acd3-4ba2-822b-db81d4dcc9b9",
   "metadata": {},
   "outputs": [],
   "source": []
  }
 ],
 "metadata": {
  "kernelspec": {
   "display_name": "Python 3 (ipykernel)",
   "language": "python",
   "name": "python3"
  },
  "language_info": {
   "codemirror_mode": {
    "name": "ipython",
    "version": 3
   },
   "file_extension": ".py",
   "mimetype": "text/x-python",
   "name": "python",
   "nbconvert_exporter": "python",
   "pygments_lexer": "ipython3",
   "version": "3.11.7"
  }
 },
 "nbformat": 4,
 "nbformat_minor": 5
}
